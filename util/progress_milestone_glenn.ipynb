{
 "cells": [
  {
   "cell_type": "code",
   "execution_count": 1,
   "metadata": {},
   "outputs": [],
   "source": [
    "import snap\n",
    "from os import path"
   ]
  },
  {
   "cell_type": "code",
   "execution_count": 2,
   "metadata": {},
   "outputs": [],
   "source": [
    "BASE_PATH = \"../data/academia.stackexchange.com\"\n",
    "# FOLDED_USERID_TSV_PATH = path.join(BASE_PATH, \"userid_folded_graph.tsv\")\n",
    "FOLDED_USERID_GRAPH_PATH = path.join(BASE_PATH, \"Userid_Folded_Graph.graph\")\n",
    "# FOLDED_POSTID_TSV_PATH = path.join(BASE_PATH, \"postid_folded_graph.tsv\")\n",
    "COMMUNITIES_PATH = path.join(BASE_PATH, 'communities.txt')\n",
    "COMMUNITIES_VEC_PATH = path.join(BASE_PATH, 'communities.vector')"
   ]
  },
  {
   "cell_type": "code",
   "execution_count": 3,
   "metadata": {},
   "outputs": [],
   "source": [
    "# user_graph = snap.LoadEdgeList(snap.PUNGraph, FOLDED_USERID_TSV_PATH, 0, 1)\n",
    "# user_graph.GetNodes()\n",
    "# user_graph.GetEdges()"
   ]
  },
  {
   "cell_type": "code",
   "execution_count": 4,
   "metadata": {},
   "outputs": [
    {
     "name": "stdout",
     "output_type": "stream",
     "text": [
      "nodes 18653\n",
      "edges 137062264\n"
     ]
    }
   ],
   "source": [
    "f_in = snap.TFIn(FOLDED_USERID_GRAPH_PATH)\n",
    "user_graph = snap.TUNGraph.Load(f_in)\n",
    "print \"nodes\", user_graph.GetNodes()\n",
    "print \"edges\", user_graph.GetEdges()"
   ]
  },
  {
   "cell_type": "code",
   "execution_count": 7,
   "metadata": {},
   "outputs": [],
   "source": [
    "# CNM\n",
    "assert snap.CntSelfEdges(user_graph) == 0\n",
    "\n",
    "comm_vec = snap.TCnComV()\n",
    "modularity = snap.CommunityCNM(user_graph, comm_vec)\n",
    "\n",
    "f_out = snap.TFOut(COMMUNITIES_VEC_PATH)\n",
    "comm_vec.Save(f_out)\n",
    "f_out.Flush()"
   ]
  },
  {
   "cell_type": "code",
   "execution_count": 8,
   "metadata": {},
   "outputs": [
    {
     "name": "stdout",
     "output_type": "stream",
     "text": [
      "communities 2\n"
     ]
    }
   ],
   "source": [
    "f_in = snap.TFIn(COMMUNITIES_VEC_PATH)\n",
    "comm_vec = snap.TCnComV()\n",
    "comm_vec.Load(f_in)\n",
    "\n",
    "print \"communities\", len(comm_vec)\n",
    "\n",
    "with open(COMMUNITIES_PATH, 'w') as f:\n",
    "    for i, comm in enumerate(comm_vec):\n",
    "        f.write(\"#####Community {}#####\\n\".format(i))\n",
    "        for node in comm:\n",
    "            f.write(str(node) + '\\n')\n",
    "    f.write(\"The modularity of the network is {}\".format(modularity))"
   ]
  },
  {
   "cell_type": "code",
   "execution_count": 9,
   "metadata": {},
   "outputs": [
    {
     "name": "stdout",
     "output_type": "stream",
     "text": [
      "Community 0 modularity: 0.0104364555711\n",
      "Community 1 modularity: 0.0104364555711\n"
     ]
    }
   ],
   "source": [
    "# modularity of communities\n",
    "f_in = snap.TFIn(COMMUNITIES_VEC_PATH)\n",
    "comm_vec = snap.TCnComV()\n",
    "comm_vec.Load(f_in)\n",
    "\n",
    "for i, comm in enumerate(comm_vec):\n",
    "    community = snap.TIntV()\n",
    "    for node in comm:\n",
    "        community.Add(node)\n",
    "    print 'Community {} modularity: {}'.format(i, snap.GetModularity(user_graph, community, user_graph.GetEdges()))"
   ]
  },
  {
   "cell_type": "code",
   "execution_count": null,
   "metadata": {},
   "outputs": [],
   "source": []
  }
 ],
 "metadata": {
  "kernelspec": {
   "display_name": "Python [conda env:cs224w]",
   "language": "python",
   "name": "conda-env-cs224w-py"
  },
  "language_info": {
   "codemirror_mode": {
    "name": "ipython",
    "version": 2
   },
   "file_extension": ".py",
   "mimetype": "text/x-python",
   "name": "python",
   "nbconvert_exporter": "python",
   "pygments_lexer": "ipython2",
   "version": "2.7.15"
  }
 },
 "nbformat": 4,
 "nbformat_minor": 2
}
