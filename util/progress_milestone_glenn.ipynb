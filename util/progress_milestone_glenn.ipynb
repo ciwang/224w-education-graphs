{
 "cells": [
  {
   "cell_type": "code",
   "execution_count": 6,
   "metadata": {},
   "outputs": [],
   "source": [
    "import snap\n",
    "from os import path"
   ]
  },
  {
   "cell_type": "code",
   "execution_count": 7,
   "metadata": {},
   "outputs": [],
   "source": [
    "BASE_PATH = \"../data/academia.stackexchange.com\"\n",
    "# FOLDED_USERID_TSV_PATH = path.join(BASE_PATH, \"userid_folded_graph.tsv\")\n",
    "FOLDED_USERID_GRAPH_PATH = path.join(BASE_PATH, \"Userid_Folded_Graph.graph\")\n",
    "# FOLDED_POSTID_TSV_PATH = path.join(BASE_PATH, \"postid_folded_graph.tsv\")"
   ]
  },
  {
   "cell_type": "code",
   "execution_count": 4,
   "metadata": {},
   "outputs": [
    {
     "data": {
      "text/plain": [
       "137062264"
      ]
     },
     "execution_count": 4,
     "metadata": {},
     "output_type": "execute_result"
    }
   ],
   "source": [
    "# user_graph = snap.LoadEdgeList(snap.PUNGraph, FOLDED_USERID_TSV_PATH, 0, 1)\n",
    "# user_graph.GetNodes()\n",
    "# user_graph.GetEdges()"
   ]
  },
  {
   "cell_type": "code",
   "execution_count": 12,
   "metadata": {},
   "outputs": [
    {
     "name": "stdout",
     "output_type": "stream",
     "text": [
      "nodes 18653\n",
      "edges 137062264\n"
     ]
    }
   ],
   "source": [
    "f_in = snap.TFIn(FOLDED_USERID_GRAPH_PATH)\n",
    "user_graph = snap.TUNGraph.Load(f_in)\n",
    "print \"nodes\", user_graph.GetNodes()\n",
    "print \"edges\", user_graph.GetEdges()"
   ]
  },
  {
   "cell_type": "code",
   "execution_count": null,
   "metadata": {},
   "outputs": [],
   "source": []
  }
 ],
 "metadata": {
  "kernelspec": {
   "display_name": "Python [conda env:cs224w]",
   "language": "python",
   "name": "conda-env-cs224w-py"
  },
  "language_info": {
   "codemirror_mode": {
    "name": "ipython",
    "version": 2
   },
   "file_extension": ".py",
   "mimetype": "text/x-python",
   "name": "python",
   "nbconvert_exporter": "python",
   "pygments_lexer": "ipython2",
   "version": "2.7.15"
  }
 },
 "nbformat": 4,
 "nbformat_minor": 2
}
