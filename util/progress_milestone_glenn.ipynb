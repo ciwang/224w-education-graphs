{
 "cells": [
  {
   "cell_type": "code",
   "execution_count": 4,
   "metadata": {},
   "outputs": [],
   "source": [
    "import snap\n",
    "from os import path"
   ]
  },
  {
   "cell_type": "code",
   "execution_count": 9,
   "metadata": {},
   "outputs": [],
   "source": [
    "BASE_PATH = \"../data/academia.stackexchange.com\"\n",
    "FOLDED_USERID_GRAPH_PATH = path.join(BASE_PATH, \"Userid_Ngram_Folded_Graph.graph\")\n",
    "FOLDED_POSTID_GRAPH_PATH = path.join(BASE_PATH, \"Postid_Folded_Graph.graph\")"
   ]
  },
  {
   "cell_type": "code",
   "execution_count": 6,
   "metadata": {},
   "outputs": [
    {
     "name": "stdout",
     "output_type": "stream",
     "text": [
      "nodes 81906\n",
      "edges 55029806\n"
     ]
    }
   ],
   "source": [
    "f_in = snap.TFIn(FOLDED_POSTID_GRAPH_PATH)\n",
    "post_graph = snap.TUNGraph.Load(f_in)\n",
    "print \"nodes\", post_graph.GetNodes()\n",
    "print \"edges\", post_graph.GetEdges()\n",
    "\n",
    "labels = snap.TIntStrH()\n",
    "for NI in post_graph.Nodes():\n",
    "    labels[NI.GetId()] = str(NI.GetId())\n",
    "snap.DrawGViz(post_graph, snap.gvlDot, \"post-output.png\", \"Folded Post Graph\", labels)"
   ]
  },
  {
   "cell_type": "code",
   "execution_count": null,
   "metadata": {},
   "outputs": [],
   "source": [
    "f_in = snap.TFIn(FOLDED_USERID_GRAPH_PATH)\n",
    "user_graph = snap.TUNGraph.Load(f_in)\n",
    "print \"nodes\", user_graph.GetNodes()\n",
    "print \"edges\", user_graph.GetEdges()\n",
    "\n",
    "labels = snap.TIntStrH()\n",
    "for NI in user_graph.Nodes():\n",
    "    labels[NI.GetId()] = str(NI.GetId())\n",
    "snap.DrawGViz(user_graph, snap.gvlDot, \"ngram-output.png\", \"Folded Ngram Graph\", labels)"
   ]
  },
  {
   "cell_type": "code",
   "execution_count": null,
   "metadata": {},
   "outputs": [],
   "source": [
    "COMMUNITIES_PATH = path.join(BASE_PATH, 'post-communities.txt')\n",
    "COMMUNITIES_VEC_PATH = path.join(BASE_PATH, 'post-communities.vector')\n",
    "\n",
    "# CNM\n",
    "assert snap.CntSelfEdges(post_graph) == 0\n",
    "\n",
    "comm_vec = snap.TCnComV()\n",
    "modularity = snap.CommunityCNM(post_graph, comm_vec)\n",
    "\n",
    "f_out = snap.TFOut(COMMUNITIES_VEC_PATH)\n",
    "comm_vec.Save(f_out)\n",
    "f_out.Flush()"
   ]
  },
  {
   "cell_type": "code",
   "execution_count": null,
   "metadata": {},
   "outputs": [],
   "source": [
    "f_in = snap.TFIn(COMMUNITIES_VEC_PATH)\n",
    "comm_vec = snap.TCnComV()\n",
    "comm_vec.Load(f_in)\n",
    "\n",
    "print \"communities\", len(comm_vec)\n",
    "\n",
    "with open(COMMUNITIES_PATH, 'w') as f:\n",
    "    for i, comm in enumerate(comm_vec):\n",
    "        f.write(\"#####Community {}#####\\n\".format(i))\n",
    "        for node in comm:\n",
    "            f.write(str(node) + '\\n')\n",
    "    f.write(\"The modularity of the network is {}\".format(modularity))"
   ]
  },
  {
   "cell_type": "code",
   "execution_count": null,
   "metadata": {},
   "outputs": [],
   "source": [
    "# modularity of communities\n",
    "f_in = snap.TFIn(COMMUNITIES_VEC_PATH)\n",
    "comm_vec = snap.TCnComV()\n",
    "comm_vec.Load(f_in)\n",
    "\n",
    "for i, comm in enumerate(comm_vec):\n",
    "    community = snap.TIntV()\n",
    "    for node in comm:\n",
    "        community.Add(node)\n",
    "    print 'Community {} modularity: {}'.format(i, snap.GetModularity(post_graph, community, post_graph.GetEdges()))"
   ]
  }
 ],
 "metadata": {
  "kernelspec": {
   "display_name": "Python [conda env:cs224w]",
   "language": "python",
   "name": "conda-env-cs224w-py"
  }
 },
 "nbformat": 4,
 "nbformat_minor": 2
}
