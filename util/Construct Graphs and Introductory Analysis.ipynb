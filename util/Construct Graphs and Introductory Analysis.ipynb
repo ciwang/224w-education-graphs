{
 "cells": [
  {
   "cell_type": "code",
   "execution_count": 1,
   "metadata": {
    "collapsed": true
   },
   "outputs": [],
   "source": [
    "import re\n",
    "import numpy as np\n",
    "import pandas as pd\n",
    "import numbers\n",
    "import pickle\n",
    "import snap\n",
    "from os import path"
   ]
  },
  {
   "cell_type": "code",
   "execution_count": 53,
   "metadata": {
    "collapsed": false
   },
   "outputs": [],
   "source": [
    "BASE_PATH = \"../data/academia.stackexchange.com\"\n",
    "NGRAM_PATH = path.join(BASE_PATH, \"Posts.most_important.txt\")\n",
    "POST_PATH = path.join(BASE_PATH, \"Posts.csv\")\n",
    "USERID_NGRAM_TSV_PATH = path.join(BASE_PATH, \"Userid_Ngram_Bipartite_Graph.tsv\")\n",
    "POSTID_NGRAM_TSV_PATH = path.join(BASE_PATH, \"Postid_Ngram_Bipartite_Graph.tsv\")\n",
    "NGRAMID_DICT_PICKLE_PATH = path.join(BASE_PATH, \"Ngramid_Dict.pickle\")\n",
    "USERID_SET_PICKLE_PATH = path.join(BASE_PATH, \"Userid_set.pickle\")\n",
    "POSTID_SET_PICKLE_PATH = path.join(BASE_PATH, \"Postid_set.pickle\")\n",
    "USERID_FOLDED_GRAPH_PATH = path.join(BASE_PATH, \"Userid_Folded_Graph.graph\")\n",
    "POSTID_FOLDED_GRAPH_PATH = path.join(BASE_PATH, \"Postid_Folded_Graph.graph\")\n",
    "USERID_NGRAM_FOLDED_GRAPH_PATH = path.join(BASE_PATH, \"Userid_Ngram_Folded_Graph.graph\")\n",
    "POSTID_NGRAM_FOLDED_GRAPH_PATH = path.join(BASE_PATH, \"Postid_Ngram_Folded_Graph.graph\")"
   ]
  },
  {
   "cell_type": "markdown",
   "metadata": {},
   "source": [
    "### Load N-grams and \"TF-IDF\" Scores"
   ]
  },
  {
   "cell_type": "code",
   "execution_count": 7,
   "metadata": {
    "collapsed": true
   },
   "outputs": [],
   "source": [
    "def clean_ngram_entry(entry):\n",
    "    \"\"\"\n",
    "    Given string entry with the form \"('ngram', score)\\n\" returns a tuple ('ngram', score), where\n",
    "    score is converted to an integer.\n",
    "    \"\"\"\n",
    "    entry = re.sub('[\\n()]', '', entry)\n",
    "    split_entry = entry.split(\",\")\n",
    "    ngram = split_entry[0].strip('\\'')\n",
    "    score = int(split_entry[1].strip())\n",
    "    \n",
    "    return ngram, score"
   ]
  },
  {
   "cell_type": "code",
   "execution_count": 8,
   "metadata": {
    "collapsed": false
   },
   "outputs": [],
   "source": [
    "def import_ngrams_scores(file_path):\n",
    "    \"\"\"\n",
    "    Given path to file containing string of form \"('ngram', score)\\n\" on each line, returns\n",
    "    a Pandas dataframe with n-gram and column columns. Each row of the dataframe will be sorted by\n",
    "    descending order for score.\n",
    "    \"\"\"\n",
    "    # Extract entries from text file.\n",
    "    all_ngrams = []\n",
    "    all_scores = []\n",
    "    with open(file_path, \"rb\") as file:\n",
    "        for entry in file.readlines():\n",
    "            ngram, score = clean_ngram_entry(entry)\n",
    "            all_ngrams.append(ngram)\n",
    "            all_scores.append(score)\n",
    "            \n",
    "    # Create dataframe containing entries.\n",
    "    ngram_df = pd.DataFrame({\"ngram\": all_ngrams, \"score\": all_scores})\n",
    "    ngram_df.sort_values(by=[\"score\"], ascending = False)\n",
    "    \n",
    "    return ngram_df"
   ]
  },
  {
   "cell_type": "code",
   "execution_count": 9,
   "metadata": {
    "collapsed": false
   },
   "outputs": [],
   "source": [
    "ngram_df = import_ngrams_scores(NGRAM_PATH)"
   ]
  },
  {
   "cell_type": "markdown",
   "metadata": {},
   "source": [
    "### Load Post content into dataframe.\n",
    "Post id, body, user id."
   ]
  },
  {
   "cell_type": "code",
   "execution_count": 10,
   "metadata": {
    "collapsed": true
   },
   "outputs": [],
   "source": [
    "def clean_post_body(body):\n",
    "    \"\"\"\n",
    "    Remove HTML tags from post body.\n",
    "    \"\"\"\n",
    "    if (type(body) != str):\n",
    "        return None\n",
    "    TAG_RE = re.compile(r'<[^>]+>')\n",
    "    return TAG_RE.sub('', body.strip()).strip().lower()"
   ]
  },
  {
   "cell_type": "code",
   "execution_count": 11,
   "metadata": {
    "collapsed": true
   },
   "outputs": [],
   "source": [
    "def load_posts_df(csv_file_path):\n",
    "    \"\"\"\n",
    "    Given path to CSV file containing posts information, lots into Pandas dataframe.\n",
    "    \"\"\"\n",
    "    posts_df = pd.read_csv(csv_file_path, usecols = [\"Id\", \"Body\", \"OwnerUserId\"])\n",
    "    posts_df = posts_df.dropna()\n",
    "    posts_df = posts_df.rename(columns={\"Id\": \"post_id\", \"Body\": \"body\", \"OwnerUserId\": \"user_id\"})\n",
    "    posts_df[\"body\"] = posts_df[\"body\"].apply(clean_post_body)\n",
    "    posts_df[\"user_id\"] = posts_df[\"user_id\"].astype(np.int64)\n",
    "    posts_df[\"post_id\"] = posts_df[\"post_id\"].astype(np.int64)\n",
    "    return posts_df"
   ]
  },
  {
   "cell_type": "code",
   "execution_count": 12,
   "metadata": {
    "collapsed": false
   },
   "outputs": [],
   "source": [
    "posts_df = load_posts_df(POST_PATH)"
   ]
  },
  {
   "cell_type": "markdown",
   "metadata": {},
   "source": [
    "### Construct User-Id to Ngram and Post-Id to Ngram Graphs."
   ]
  },
  {
   "cell_type": "code",
   "execution_count": 13,
   "metadata": {
    "collapsed": true
   },
   "outputs": [],
   "source": [
    "def create_ngram_id_dict(ngram_df, min_score, init_index):\n",
    "    \"\"\"\n",
    "    Create dictionary mapping n-gram to an integer index greater than or equal to init_index.\n",
    "    \"\"\"\n",
    "    # Get n-gram nodes that have score at or above min_score.\n",
    "    used_ngram_df = ngram_df.loc[ngram_df[\"score\"] >= min_score]\n",
    "    \n",
    "    # Create dictinonary that maps n-gram to its id.\n",
    "    ngram_id_dict = dict()\n",
    "    curr_index = init_index\n",
    "    for ngram in used_ngram_df[\"ngram\"].values:\n",
    "        ngram_id_dict[ngram] = curr_index\n",
    "        curr_index += 1\n",
    "    \n",
    "    return ngram_id_dict"
   ]
  },
  {
   "cell_type": "code",
   "execution_count": 14,
   "metadata": {
    "collapsed": false
   },
   "outputs": [],
   "source": [
    "def create_graph_dfs(ngram_df, posts_df, min_score):\n",
    "    \"\"\"\n",
    "    Create user-id to n-gram and post-id to n-gram graph. The graphs will be stored as a Pandas dataframe.\n",
    "        Each row of the dataframe contains an edge of the graph. The dataframe can be written out as a tsv\n",
    "        to be read in as a Snap graph.\n",
    "    Returns:\n",
    "        Tuple (userid_ngram_df, postid_ngram_df, ngram_id_dict, user_id_set, post_id_set). ngramid_dict is\n",
    "        a dictionary mapping ngram to its assigned id value. userid_set is a set containing the user id nodes\n",
    "        that are included in the user-id graph. postid_set is a containing the post id nodes that\n",
    "        are included in teh post-id graph.\n",
    "    \"\"\"\n",
    "    # Create n-gram dict.\n",
    "    max_post_id = max(posts_df[\"post_id\"].values)\n",
    "    max_user_id = max(posts_df[\"user_id\"].values)\n",
    "    ngram_id_dict = create_ngram_id_dict(ngram_df, min_score, max(max_post_id, max_user_id) + 1)\n",
    "    \n",
    "    # Create dataframes storing the edges in the graphs.\n",
    "    user_id_nodes = []\n",
    "    post_id_nodes = []\n",
    "    ngram_id_nodes = []\n",
    "    for _, row in posts_df.iterrows():\n",
    "        if (type(row[\"body\"]) != str): continue\n",
    "        user_id = row[\"user_id\"]\n",
    "        post_id = row[\"post_id\"]\n",
    "        if ((user_id < 0) or (post_id) < 0): continue\n",
    "        body = row[\"body\"].split()\n",
    "        for ngram, ngram_id in ngram_id_dict.items():\n",
    "            if ngram in body:\n",
    "                ngram_id_nodes.append(ngram_id)\n",
    "                user_id_nodes.append(user_id)\n",
    "                post_id_nodes.append(post_id)\n",
    "      \n",
    "    userid_ngram_df = pd.DataFrame({\"user_id\": user_id_nodes, \"ngram_id\": ngram_id_nodes})\n",
    "    postid_ngram_df = pd.DataFrame({\"post_id\": post_id_nodes, \"ngram_id\": ngram_id_nodes})\n",
    "    return userid_ngram_df, postid_ngram_df, ngram_id_dict, set(user_id_nodes), set(post_id_nodes)"
   ]
  },
  {
   "cell_type": "code",
   "execution_count": 15,
   "metadata": {
    "collapsed": false
   },
   "outputs": [],
   "source": [
    "# Construct graphs stored in dataframes.\n",
    "userid_ngram_df, postid_ngram_df, ngramid_dict, userid_set, postid_set = create_graph_dfs(ngram_df, posts_df, 5)"
   ]
  },
  {
   "cell_type": "code",
   "execution_count": 17,
   "metadata": {
    "collapsed": true
   },
   "outputs": [],
   "source": [
    "# Write graphs as tsv files that can be read as a Snap graph.\n",
    "userid_ngram_df.to_csv(USERID_NGRAM_TSV_PATH, sep=\"\\t\", header=False, index=False)\n",
    "postid_ngram_df.to_csv(POSTID_NGRAM_TSV_PATH, sep=\"\\t\", header=False, index=False)"
   ]
  },
  {
   "cell_type": "code",
   "execution_count": 22,
   "metadata": {
    "collapsed": false
   },
   "outputs": [],
   "source": [
    "# Pickle to store ngramid_dict, userid_set, postid_set.\n",
    "pickle_out = open(NGRAMID_DICT_PICKLE_PATH,\"wb\")\n",
    "pickle.dump(ngramid_dict, pickle_out)\n",
    "pickle_out.close()\n",
    "\n",
    "pickle_out = open(USERID_SET_PICKLE_PATH,\"wb\")\n",
    "pickle.dump(userid_set, pickle_out)\n",
    "pickle_out.close()\n",
    "\n",
    "pickle_out = open(POSTID_SET_PICKLE_PATH,\"wb\")\n",
    "pickle.dump(postid_set, pickle_out)\n",
    "pickle_out.close()"
   ]
  },
  {
   "cell_type": "markdown",
   "metadata": {},
   "source": [
    "### Fold Bipartite Graphs to create User-id and Post-id Graphs"
   ]
  },
  {
   "cell_type": "code",
   "execution_count": 25,
   "metadata": {
    "collapsed": false
   },
   "outputs": [],
   "source": [
    "# Load the graphs in SNAP.\n",
    "userid_ngram_bipartite_graph = snap.LoadEdgeList(snap.PUNGraph, USERID_NGRAM_TSV_PATH, 0, 1)\n",
    "postid_ngram_bipartite_graph = snap.LoadEdgeList(snap.PUNGraph, POSTID_NGRAM_TSV_PATH, 0, 1)"
   ]
  },
  {
   "cell_type": "code",
   "execution_count": 58,
   "metadata": {
    "collapsed": true
   },
   "outputs": [],
   "source": [
    "def U_fold_graph(G, U_set):\n",
    "    \"\"\"\n",
    "    G: Bipartite graph that we want to fold.\n",
    "    U_set: Set containing all node ids in the left partition of G. These will be the nodes that are kept\n",
    "        in the fold\n",
    "    \"\"\"\n",
    "    folded_G = snap.TUNGraph.New()\n",
    "    \n",
    "    # Add all nodes in U_set to G.\n",
    "    for nid in U_set:\n",
    "        folded_G.AddNode(nid)\n",
    "        \n",
    "    # Iterate through nodes in U_set and add edge between them if they have at least one common neighbor in G.\n",
    "    # Becasue the graph is bipartite, the common neighbor must be in V.\n",
    "    for N1 in G.Nodes():\n",
    "        if (N1.GetId() not in U_set): continue # N1 not a disease node.\n",
    "        for N2 in G.Nodes():\n",
    "            if (N1.GetId() == N2.GetId()): continue # No self-loops.\n",
    "            if (N2.GetId() not in U_set): continue # N2 not a disease node.\n",
    "            if (snap.GetCmnNbrs(G, N1.GetId(), N2.GetId()) > 0):\n",
    "                    folded_G.AddEdge(N1.GetId(), N2.GetId())\n",
    "    return folded_G"
   ]
  },
  {
   "cell_type": "markdown",
   "metadata": {},
   "source": [
    "Graph containing user nodes."
   ]
  },
  {
   "cell_type": "code",
   "execution_count": 29,
   "metadata": {
    "collapsed": false
   },
   "outputs": [],
   "source": [
    "# Fold to create user graph.\n",
    "userid_graph = U_fold_graph(userid_ngram_bipartite_graph, userid_set)"
   ]
  },
  {
   "cell_type": "code",
   "execution_count": 46,
   "metadata": {
    "collapsed": true
   },
   "outputs": [],
   "source": [
    "# Save created user graph.\n",
    "FOut = snap.TFOut(USERID_FOLDED_GRAPH_PATH)\n",
    "userid_graph.Save(FOut)\n",
    "FOut.Flush()"
   ]
  },
  {
   "cell_type": "markdown",
   "metadata": {},
   "source": [
    "Graph containing post nodes."
   ]
  },
  {
   "cell_type": "code",
   "execution_count": 47,
   "metadata": {
    "collapsed": false
   },
   "outputs": [],
   "source": [
    "# Fold to create post graph.\n",
    "postid_graph = U_fold_graph(postid_ngram_bipartite_graph,e postid_set)"
   ]
  },
  {
   "cell_type": "code",
   "execution_count": 49,
   "metadata": {
    "collapsed": true
   },
   "outputs": [],
   "source": [
    "# Save created post graph.\n",
    "FOut = snap.TFOut(POSTID_FOLDED_GRAPH_PATH)\n",
    "postid_graph.Save(FOut)\n",
    "FOut.Flush()"
   ]
  },
  {
   "cell_type": "markdown",
   "metadata": {},
   "source": [
    "Graph containing n-gram nodes folded from user graph."
   ]
  },
  {
   "cell_type": "code",
   "execution_count": null,
   "metadata": {
    "collapsed": false
   },
   "outputs": [],
   "source": [
    "# Fold to n-gram graph from the user graph.\n",
    "userid_ngram_graph = U_fold_graph(userid_ngram_bipartite_graph, ngramid_dict.values())"
   ]
  },
  {
   "cell_type": "code",
   "execution_count": null,
   "metadata": {
    "collapsed": true
   },
   "outputs": [],
   "source": [
    "# Save created user n-gram  graph.\n",
    "FOut = snap.TFOut(USERID_NGRAM_FOLDED_GRAPH_PATH)\n",
    "userid_graph.Save(FOut)\n",
    "FOut.Flush()"
   ]
  },
  {
   "cell_type": "markdown",
   "metadata": {},
   "source": [
    "Graph containing n-gram nodes from  post graph.\n"
   ]
  },
  {
   "cell_type": "code",
   "execution_count": null,
   "metadata": {
    "collapsed": true
   },
   "outputs": [],
   "source": [
    "# Fold to n-gram graph from the post graph.\n",
    "userid_ngram_graph = U_fold_graph(postid_ngram_bipartite_graph, ngramid_dict.values())"
   ]
  },
  {
   "cell_type": "code",
   "execution_count": null,
   "metadata": {
    "collapsed": true
   },
   "outputs": [],
   "source": [
    "# Save created user n-gram  graph.\n",
    "FOut = snap.TFOut(POSTID_NGRAM_FOLDED_GRAPH_PATH)\n",
    "userid_graph.Save(FOut)\n",
    "FOut.Flush()"
   ]
  },
  {
   "cell_type": "markdown",
   "metadata": {},
   "source": [
    "### Page Rank"
   ]
  },
  {
   "cell_type": "code",
   "execution_count": 52,
   "metadata": {
    "collapsed": false
   },
   "outputs": [
    {
     "ename": "KeyboardInterrupt",
     "evalue": "",
     "output_type": "error",
     "traceback": [
      "\u001b[0;31m---------------------------------------------------------------------------\u001b[0m",
      "\u001b[0;31mKeyboardInterrupt\u001b[0m                         Traceback (most recent call last)",
      "\u001b[0;32m<ipython-input-52-0f428a588c00>\u001b[0m in \u001b[0;36m<module>\u001b[0;34m()\u001b[0m\n\u001b[1;32m      1\u001b[0m \u001b[0muserid_pagerank_H\u001b[0m \u001b[0;34m=\u001b[0m \u001b[0msnap\u001b[0m\u001b[0;34m.\u001b[0m\u001b[0mTIntFltH\u001b[0m\u001b[0;34m(\u001b[0m\u001b[0;34m)\u001b[0m\u001b[0;34m\u001b[0m\u001b[0m\n\u001b[0;32m----> 2\u001b[0;31m \u001b[0msnap\u001b[0m\u001b[0;34m.\u001b[0m\u001b[0mGetPageRank\u001b[0m\u001b[0;34m(\u001b[0m\u001b[0muserid_graph\u001b[0m\u001b[0;34m,\u001b[0m \u001b[0muserid_pagerank_H\u001b[0m\u001b[0;34m)\u001b[0m\u001b[0;34m\u001b[0m\u001b[0m\n\u001b[0m",
      "\u001b[0;32m/Users/Christina/miniconda2/lib/python2.7/site-packages/snap.pyc\u001b[0m in \u001b[0;36mGetPageRank\u001b[0;34m(tspec, *args)\u001b[0m\n\u001b[1;32m 247248\u001b[0m     \u001b[0;32mraise\u001b[0m \u001b[0mTypeError\u001b[0m\u001b[0;34m(\u001b[0m\u001b[0;34m'First argument has invalid type'\u001b[0m\u001b[0;34m)\u001b[0m\u001b[0;34m\u001b[0m\u001b[0m\n\u001b[1;32m 247249\u001b[0m \u001b[0;32mdef\u001b[0m \u001b[0mGetPageRank\u001b[0m\u001b[0;34m(\u001b[0m\u001b[0mtspec\u001b[0m\u001b[0;34m,\u001b[0m \u001b[0;34m*\u001b[0m\u001b[0margs\u001b[0m\u001b[0;34m)\u001b[0m\u001b[0;34m:\u001b[0m\u001b[0;34m\u001b[0m\u001b[0m\n\u001b[0;32m>247250\u001b[0;31m     \u001b[0;32mif\u001b[0m \u001b[0mtype\u001b[0m\u001b[0;34m(\u001b[0m\u001b[0mtspec\u001b[0m\u001b[0;34m)\u001b[0m \u001b[0;34m==\u001b[0m \u001b[0mPUNGraph\u001b[0m\u001b[0;34m:\u001b[0m \u001b[0;32mreturn\u001b[0m \u001b[0mGetPageRank_PUNGraph\u001b[0m\u001b[0;34m(\u001b[0m\u001b[0mtspec\u001b[0m\u001b[0;34m,\u001b[0m \u001b[0;34m*\u001b[0m\u001b[0margs\u001b[0m\u001b[0;34m)\u001b[0m\u001b[0;34m\u001b[0m\u001b[0m\n\u001b[0m\u001b[1;32m 247251\u001b[0m     \u001b[0;32mif\u001b[0m \u001b[0mtype\u001b[0m\u001b[0;34m(\u001b[0m\u001b[0mtspec\u001b[0m\u001b[0;34m)\u001b[0m \u001b[0;34m==\u001b[0m \u001b[0mPUndirNet\u001b[0m\u001b[0;34m:\u001b[0m \u001b[0;32mreturn\u001b[0m \u001b[0mGetPageRank_PUndirNet\u001b[0m\u001b[0;34m(\u001b[0m\u001b[0mtspec\u001b[0m\u001b[0;34m,\u001b[0m \u001b[0;34m*\u001b[0m\u001b[0margs\u001b[0m\u001b[0;34m)\u001b[0m\u001b[0;34m\u001b[0m\u001b[0m\n\u001b[1;32m 247252\u001b[0m     \u001b[0;32mif\u001b[0m \u001b[0mtype\u001b[0m\u001b[0;34m(\u001b[0m\u001b[0mtspec\u001b[0m\u001b[0;34m)\u001b[0m \u001b[0;34m==\u001b[0m \u001b[0mPDirNet\u001b[0m\u001b[0;34m:\u001b[0m \u001b[0;32mreturn\u001b[0m \u001b[0mGetPageRank_PDirNet\u001b[0m\u001b[0;34m(\u001b[0m\u001b[0mtspec\u001b[0m\u001b[0;34m,\u001b[0m \u001b[0;34m*\u001b[0m\u001b[0margs\u001b[0m\u001b[0;34m)\u001b[0m\u001b[0;34m\u001b[0m\u001b[0m\n",
      "\u001b[0;32m/Users/Christina/miniconda2/lib/python2.7/site-packages/snap.pyc\u001b[0m in \u001b[0;36mGetPageRank_PUNGraph\u001b[0;34m(Graph, PRankH, C, Eps, MaxIter)\u001b[0m\n\u001b[1;32m 237708\u001b[0m \u001b[0;34m\u001b[0m\u001b[0m\n\u001b[1;32m 237709\u001b[0m     \"\"\"\n\u001b[0;32m>237710\u001b[0;31m     \u001b[0;32mreturn\u001b[0m \u001b[0m_snap\u001b[0m\u001b[0;34m.\u001b[0m\u001b[0mGetPageRank_PUNGraph\u001b[0m\u001b[0;34m(\u001b[0m\u001b[0mGraph\u001b[0m\u001b[0;34m,\u001b[0m \u001b[0mPRankH\u001b[0m\u001b[0;34m,\u001b[0m \u001b[0mC\u001b[0m\u001b[0;34m,\u001b[0m \u001b[0mEps\u001b[0m\u001b[0;34m,\u001b[0m \u001b[0mMaxIter\u001b[0m\u001b[0;34m)\u001b[0m\u001b[0;34m\u001b[0m\u001b[0m\n\u001b[0m\u001b[1;32m 237711\u001b[0m \u001b[0;34m\u001b[0m\u001b[0m\n\u001b[1;32m 237712\u001b[0m \u001b[0;32mdef\u001b[0m \u001b[0mGetPageRank_v1_PUNGraph\u001b[0m\u001b[0;34m(\u001b[0m\u001b[0mGraph\u001b[0m\u001b[0;34m,\u001b[0m \u001b[0mPRankH\u001b[0m\u001b[0;34m,\u001b[0m \u001b[0mC\u001b[0m\u001b[0;34m=\u001b[0m\u001b[0;36m0.85\u001b[0m\u001b[0;34m,\u001b[0m \u001b[0mEps\u001b[0m\u001b[0;34m=\u001b[0m\u001b[0;36m1e-4\u001b[0m\u001b[0;34m,\u001b[0m \u001b[0mMaxIter\u001b[0m\u001b[0;34m=\u001b[0m\u001b[0;36m100\u001b[0m\u001b[0;34m)\u001b[0m\u001b[0;34m:\u001b[0m\u001b[0;34m\u001b[0m\u001b[0m\n",
      "\u001b[0;31mKeyboardInterrupt\u001b[0m: "
     ]
    }
   ],
   "source": [
    "userid_pagerank_H = snap.TIntFltH()\n",
    "snap.GetPageRank(userid_graph, userid_pagerank_H)"
   ]
  },
  {
   "cell_type": "code",
   "execution_count": null,
   "metadata": {
    "collapsed": true
   },
   "outputs": [],
   "source": []
  }
 ],
 "metadata": {
  "kernelspec": {
   "display_name": "Python 2",
   "language": "python",
   "name": "python2"
  },
  "language_info": {
   "codemirror_mode": {
    "name": "ipython",
    "version": 2
   },
   "file_extension": ".py",
   "mimetype": "text/x-python",
   "name": "python",
   "nbconvert_exporter": "python",
   "pygments_lexer": "ipython2",
   "version": "2.7.12"
  }
 },
 "nbformat": 4,
 "nbformat_minor": 0
}
