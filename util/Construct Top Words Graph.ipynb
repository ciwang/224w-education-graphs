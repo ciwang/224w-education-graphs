{
 "cells": [
  {
   "cell_type": "code",
   "execution_count": null,
   "metadata": {},
   "outputs": [],
   "source": [
    "import re\n",
    "import numpy as np\n",
    "import pandas as pd\n",
    "import numbers\n",
    "import pickle\n",
    "import snap\n",
    "from os import path"
   ]
  },
  {
   "cell_type": "code",
   "execution_count": 6,
   "metadata": {},
   "outputs": [],
   "source": [
    "BASE_PATH = \"../data/academia.stackexchange.com\"\n",
    "POST_TOP_NGRAM_PATH = path.join(BASE_PATH, \"Posts-top_words.tsv\")\n",
    "USERID_NGRAM_TSV_PATH = path.join(BASE_PATH, \"Userid_Ngram_Bipartite_Graph.tsv\")\n",
    "POSTID_NGRAM_TSV_PATH = path.join(BASE_PATH, \"Postid_Ngram_Bipartite_Graph.tsv\")\n",
    "NGRAMID_DICT_PICKLE_PATH = path.join(BASE_PATH, \"Ngramid_Dict.pickle\")\n",
    "USERID_SET_PICKLE_PATH = path.join(BASE_PATH, \"Userid_set.pickle\")\n",
    "POSTID_SET_PICKLE_PATH = path.join(BASE_PATH, \"Postid_set.pickle\")\n",
    "USERID_FOLDED_GRAPH_PATH = path.join(BASE_PATH, \"Userid_Folded_Graph.graph\")\n",
    "POSTID_FOLDED_GRAPH_PATH = path.join(BASE_PATH, \"Postid_Folded_Graph.graph\")\n",
    "USERID_NGRAM_FOLDED_GRAPH_PATH = path.join(BASE_PATH, \"Userid_Ngram_Folded_Graph.graph\")\n",
    "POSTID_NGRAM_FOLDED_GRAPH_PATH = path.join(BASE_PATH, \"Postid_Ngram_Folded_Graph.graph\")"
   ]
  },
  {
   "cell_type": "markdown",
   "metadata": {},
   "source": [
    "### Load top words from posts."
   ]
  },
  {
   "cell_type": "code",
   "execution_count": 3,
   "metadata": {
    "collapsed": true
   },
   "outputs": [],
   "source": [
    "num_top_words = 5"
   ]
  },
  {
   "cell_type": "code",
   "execution_count": 22,
   "metadata": {
    "collapsed": true
   },
   "outputs": [],
   "source": [
    "top_word_columns = [\"TopWord%d\" % i for i in xrange(1, num_top_words+1)]"
   ]
  },
  {
   "cell_type": "code",
   "execution_count": 17,
   "metadata": {
    "collapsed": true
   },
   "outputs": [],
   "source": [
    "def load_top_ngram_df(topwords_path):\n",
    "    \"\"\"\n",
    "    TODO\n",
    "    \"\"\"\n",
    "    # Load csv containing the top words.\n",
    "    posts_df = pd.read_csv(topwords_path, sep = \"\\t\", usecols = \n",
    "                           [\"Id\", \"OwnerUserId\", \"TopWord1\", \"TopWord2\", \"TopWord3\", \"TopWord4\", \"TopWord5\"])\n",
    "    \n",
    "    # Clean dataframe.\n",
    "    posts_df = posts_df.dropna()\n",
    "    posts_df = posts_df.rename(columns={\"Id\": \"post_id\", \"OwnerUserId\": \"user_id\"})\n",
    "    posts_df[\"user_id\"] = posts_df[\"user_id\"].astype(np.int64)\n",
    "    posts_df[\"post_id\"] = posts_df[\"post_id\"].astype(np.int64)\n",
    "    posts_df = posts_df[posts_df[\"user_id\"] > 0]\n",
    "    posts_df = posts_df[posts_df[\"post_id\"] > 0]\n",
    "\n",
    "    return posts_df"
   ]
  },
  {
   "cell_type": "code",
   "execution_count": 23,
   "metadata": {
    "collapsed": true
   },
   "outputs": [],
   "source": [
    "def get_top_ngram_set(posts_df):\n",
    "    top_ngram_set = set()\n",
    "    for col in top_word_columns:\n",
    "        top_ngram_set.update(posts_df[col].values)\n",
    "    return top_ngram_set"
   ]
  },
  {
   "cell_type": "code",
   "execution_count": 24,
   "metadata": {
    "collapsed": true
   },
   "outputs": [],
   "source": [
    "posts_df = load_top_ngram_df(POST_TOP_NGRAM_PATH)"
   ]
  },
  {
   "cell_type": "code",
   "execution_count": 25,
   "metadata": {
    "collapsed": true
   },
   "outputs": [],
   "source": [
    "top_ngram_set = get_top_ngram_set(posts_df)"
   ]
  },
  {
   "cell_type": "code",
   "execution_count": 26,
   "metadata": {},
   "outputs": [
    {
     "name": "stdout",
     "output_type": "stream",
     "text": [
      "Number of n-grams: 44125\n"
     ]
    }
   ],
   "source": [
    "print \"Number of n-grams:\", len(top_ngram_set)"
   ]
  },
  {
   "cell_type": "markdown",
   "metadata": {},
   "source": [
    "### Construct User-Id to Ngram and Post-Id to Ngram Graphs."
   ]
  },
  {
   "cell_type": "code",
   "execution_count": 12,
   "metadata": {
    "collapsed": true
   },
   "outputs": [],
   "source": [
    "def create_ngram_id_dict(top_ngram_set, init_index):\n",
    "    \"\"\"\n",
    "    Create dictionary mapping n-gram to an integer index greater than or equal to init_index.\n",
    "    \"\"\"    \n",
    "    # Create dictinonary that maps n-gram to its id.\n",
    "    ngram_id_dict = dict()\n",
    "    curr_index = init_index\n",
    "    for ngram in top_ngram_set:\n",
    "        ngram_id_dict[ngram] = curr_index\n",
    "        curr_index += 1\n",
    "    \n",
    "    return ngram_id_dict"
   ]
  },
  {
   "cell_type": "code",
   "execution_count": 36,
   "metadata": {},
   "outputs": [],
   "source": [
    "def create_graph_dfs(top_ngram_set, posts_df):\n",
    "    \"\"\"\n",
    "    Create user-id to n-gram and post-id to n-gram graph. The graphs will be stored as a Pandas dataframe.\n",
    "        Each row of the dataframe contains an edge of the graph. The dataframe can be written out as a tsv\n",
    "        to be read in as a Snap graph.\n",
    "    Returns:\n",
    "        Tuple (userid_ngram_df, postid_ngram_df, ngram_id_dict, user_id_set, post_id_set). ngramid_dict is\n",
    "        a dictionary mapping ngram to its assigned id value. userid_set is a set containing the user id nodes\n",
    "        that are included in the user-id graph. postid_set is a containing the post id nodes that\n",
    "        are included in teh post-id graph.\n",
    "    \"\"\"\n",
    "    # Create n-gram dict.\n",
    "    max_post_id = max(posts_df[\"post_id\"].values)\n",
    "    max_user_id = max(posts_df[\"user_id\"].values)\n",
    "    ngram_id_dict = create_ngram_id_dict(top_ngram_set, max(max_post_id, max_user_id) + 1)\n",
    "    \n",
    "    # Create dataframes storing the edges in the graphs.\n",
    "    user_id_nodes = []\n",
    "    post_id_nodes = []\n",
    "    ngram_id_nodes = []\n",
    "    for _, row in posts_df.iterrows():\n",
    "        user_id = row[\"user_id\"]\n",
    "        post_id = row[\"post_id\"]\n",
    "        top_ngrams = list(row[top_word_columns])        \n",
    "        if ((user_id < 0) or (post_id) < 0): continue\n",
    "        for ngram, ngram_id in ngram_id_dict.items():\n",
    "            if ngram in top_ngrams:\n",
    "                ngram_id_nodes.append(ngram_id)\n",
    "                user_id_nodes.append(user_id)\n",
    "                post_id_nodes.append(post_id)\n",
    "      \n",
    "    userid_ngram_df = pd.DataFrame({\"user_id\": user_id_nodes, \"ngram_id\": ngram_id_nodes})\n",
    "    postid_ngram_df = pd.DataFrame({\"post_id\": post_id_nodes, \"ngram_id\": ngram_id_nodes})\n",
    "    return userid_ngram_df, postid_ngram_df, ngram_id_dict, set(user_id_nodes), set(post_id_nodes)"
   ]
  },
  {
   "cell_type": "code",
   "execution_count": 37,
   "metadata": {},
   "outputs": [],
   "source": [
    "# Construct graphs stored in dataframes.\n",
    "userid_ngram_df, postid_ngram_df, ngramid_dict, userid_set, postid_set = create_graph_dfs(top_ngram_set, posts_df)"
   ]
  },
  {
   "cell_type": "code",
   "execution_count": 38,
   "metadata": {
    "collapsed": true
   },
   "outputs": [],
   "source": [
    "# Write graphs as tsv files that can be read as a Snap graph.\n",
    "userid_ngram_df.to_csv(USERID_NGRAM_TSV_PATH, sep=\"\\t\", header=False, index=False)\n",
    "postid_ngram_df.to_csv(POSTID_NGRAM_TSV_PATH, sep=\"\\t\", header=False, index=False)"
   ]
  },
  {
   "cell_type": "code",
   "execution_count": 39,
   "metadata": {},
   "outputs": [],
   "source": [
    "# Pickle to store ngramid_dict, userid_set, postid_set.\n",
    "pickle_out = open(NGRAMID_DICT_PICKLE_PATH,\"wb\")\n",
    "pickle.dump(ngramid_dict, pickle_out)\n",
    "pickle_out.close()\n",
    "\n",
    "pickle_out = open(USERID_SET_PICKLE_PATH,\"wb\")\n",
    "pickle.dump(userid_set, pickle_out)\n",
    "pickle_out.close()\n",
    "\n",
    "pickle_out = open(POSTID_SET_PICKLE_PATH,\"wb\")\n",
    "pickle.dump(postid_set, pickle_out)\n",
    "pickle_out.close()"
   ]
  },
  {
   "cell_type": "markdown",
   "metadata": {},
   "source": [
    "### Fold Bipartite Graphs to create User-id and Post-id Graphs"
   ]
  },
  {
   "cell_type": "code",
   "execution_count": 40,
   "metadata": {},
   "outputs": [],
   "source": [
    "# Load the graphs in SNAP.\n",
    "userid_ngram_bipartite_graph = snap.LoadEdgeList(snap.PUNGraph, USERID_NGRAM_TSV_PATH, 0, 1)\n",
    "postid_ngram_bipartite_graph = snap.LoadEdgeList(snap.PUNGraph, POSTID_NGRAM_TSV_PATH, 0, 1)"
   ]
  },
  {
   "cell_type": "code",
   "execution_count": 44,
   "metadata": {
    "collapsed": true
   },
   "outputs": [],
   "source": [
    "# Load pickled datastructures.\n",
    "ngramid_dict = pickle.load(open(NGRAMID_DICT_PICKLE_PATH, \"rb\"))\n",
    "userid_set = pickle.load(open(USERID_SET_PICKLE_PATH, \"rb\"))\n",
    "postid_set = pickle.load(open(POSTID_SET_PICKLE_PATH, \"rb\"))"
   ]
  },
  {
   "cell_type": "code",
   "execution_count": 42,
   "metadata": {},
   "outputs": [
    {
     "name": "stdout",
     "output_type": "stream",
     "text": [
      "Nodes 62765\n",
      "Edges 347084\n"
     ]
    }
   ],
   "source": [
    "# Basic userid ngram bipartite graph statistics.\n",
    "print \"Nodes\", userid_ngram_bipartite_graph.GetNodes()\n",
    "print \"Edges\", userid_ngram_bipartite_graph.GetEdges()"
   ]
  },
  {
   "cell_type": "code",
   "execution_count": 43,
   "metadata": {},
   "outputs": [
    {
     "name": "stdout",
     "output_type": "stream",
     "text": [
      "Nodes 126031\n",
      "Edges 409530\n"
     ]
    }
   ],
   "source": [
    "# Basic userid ngram bipartite graph statistics.\n",
    "print \"Nodes\", postid_ngram_bipartite_graph.GetNodes()\n",
    "print \"Edges\", postid_ngram_bipartite_graph.GetEdges()"
   ]
  },
  {
   "cell_type": "code",
   "execution_count": 45,
   "metadata": {
    "collapsed": true
   },
   "outputs": [],
   "source": [
    "def U_fold_graph(G, U_set):\n",
    "    \"\"\"\n",
    "    G: Bipartite graph that we want to fold.\n",
    "    U_set: Set containing all node ids in the left partition of G. These will be the nodes that are kept\n",
    "        in the fold\n",
    "    \"\"\"\n",
    "    folded_G = snap.TUNGraph.New()\n",
    "    \n",
    "    # Add all nodes in U_set to G.\n",
    "    for nid in U_set:\n",
    "        folded_G.AddNode(nid)\n",
    "        \n",
    "    # Iterate through nodes in U_set and add edge between them if they have at least one common neighbor in G.\n",
    "    # Becasue the graph is bipartite, the common neighbor must be in V.\n",
    "    for N1 in G.Nodes():\n",
    "        if (N1.GetId() not in U_set): continue # N1 not a disease node.\n",
    "        for N2 in G.Nodes():\n",
    "            if (N1.GetId() == N2.GetId()): continue # No self-loops.\n",
    "            if (N2.GetId() not in U_set): continue # N2 not a disease node.\n",
    "            if (snap.GetCmnNbrs(G, N1.GetId(), N2.GetId()) > 0):\n",
    "                    folded_G.AddEdge(N1.GetId(), N2.GetId())\n",
    "    return folded_G"
   ]
  },
  {
   "cell_type": "markdown",
   "metadata": {},
   "source": [
    "Graph containing post nodes."
   ]
  },
  {
   "cell_type": "code",
   "execution_count": 47,
   "metadata": {},
   "outputs": [],
   "source": [
    "# Fold to create post graph.\n",
    "postid_graph = U_fold_graph(postid_ngram_bipartite_graph,e postid_set)"
   ]
  },
  {
   "cell_type": "code",
   "execution_count": 49,
   "metadata": {
    "collapsed": true
   },
   "outputs": [],
   "source": [
    "# Save created post graph.\n",
    "FOut = snap.TFOut(POSTID_FOLDED_GRAPH_PATH)\n",
    "postid_graph.Save(FOut)\n",
    "FOut.Flush()"
   ]
  },
  {
   "cell_type": "markdown",
   "metadata": {},
   "source": [
    "Graph containing n-gram nodes folded from user graph."
   ]
  },
  {
   "cell_type": "code",
   "execution_count": null,
   "metadata": {},
   "outputs": [],
   "source": [
    "# Fold to n-gram graph from the user graph.\n",
    "userid_ngram_graph = U_fold_graph(userid_ngram_bipartite_graph, ngramid_dict.values())"
   ]
  },
  {
   "cell_type": "code",
   "execution_count": null,
   "metadata": {
    "collapsed": true
   },
   "outputs": [],
   "source": [
    "# Save created user n-gram  graph.\n",
    "FOut = snap.TFOut(USERID_NGRAM_FOLDED_GRAPH_PATH)\n",
    "userid_graph.Save(FOut)\n",
    "FOut.Flush()"
   ]
  }
 ],
 "metadata": {
  "kernelspec": {
   "display_name": "Python 2",
   "language": "python",
   "name": "python2"
  },
  "language_info": {
   "codemirror_mode": {
    "name": "ipython",
    "version": 2
   },
   "file_extension": ".py",
   "mimetype": "text/x-python",
   "name": "python",
   "nbconvert_exporter": "python",
   "pygments_lexer": "ipython2",
   "version": "2.7.13"
  }
 },
 "nbformat": 4,
 "nbformat_minor": 1
}
